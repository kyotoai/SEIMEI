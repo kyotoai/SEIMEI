{
 "cells": [
  {
   "cell_type": "markdown",
   "id": "7b778a89-9ca0-449a-819a-885a751bb944",
   "metadata": {},
   "source": [
    "# Prerequisites"
   ]
  },
  {
   "cell_type": "code",
   "execution_count": null,
   "id": "e4199cfe-5224-452c-b913-3b4585773f31",
   "metadata": {
    "scrolled": true
   },
   "outputs": [],
   "source": [
    "!pip install -U /workspace/SEIMEI6-4\n",
    "!pip install -U /workspace/RMSearch1-3"
   ]
  },
  {
   "cell_type": "markdown",
   "id": "44852574",
   "metadata": {},
   "source": [
    "# Without database 0"
   ]
  },
  {
   "cell_type": "code",
   "execution_count": null,
   "id": "40b5ac85",
   "metadata": {},
   "outputs": [],
   "source": [
    "import os\n",
    "print(os.getenv(\"OPENAI_API_KEY\"))"
   ]
  },
  {
   "cell_type": "code",
   "execution_count": 1,
   "id": "37257229",
   "metadata": {},
   "outputs": [],
   "source": [
    "from SEIMEI import SEIMEI\n",
    "\n",
    "problems = [\n",
    "    \"Three airline companies operate flights from Dodola island. Each company has a different schedule of departures. The first company departs every 100 days, the second every 120 days and the third every 150 days. What is the greatest positive integer $d$ for which it is true that there will be $d$ consecutive days without a flight from Dodola island, regardless of the departure times of the various airlines?\",\n",
    "    \"Fred and George take part in a tennis tournament with $4046$ other players. In each round, the players are paired into $2024$ matches. How many ways are there to arrange the first round such that Fred and George do not have to play each other? (Two arrangements for the first round are \\textit{different} if there is a player with a different opponent in the two arrangements.)\",\n",
    "]\n",
    "\n",
    "queries = []\n",
    "for problem in problems:\n",
    "    queries.append({\"query\":problem})\n",
    "\n",
    "expert_config = [\n",
    "    {\n",
    "        \"dir_path\" : \"../Experts/test\", # can be either folder or file\n",
    "    }\n",
    "]\n",
    "\n",
    "seimei = SEIMEI(\n",
    "    expert_config = expert_config,\n",
    "    llm_backend = \"openai\",\n",
    "    openai_model = \"gpt-5-nano\",\n",
    "    max_inference_time = 1000,\n",
    "    tensor_parallel_size = 1,\n",
    "    max_seq_len_to_capture = 10000,\n",
    "    gpu_memory_utilization = 0.4,\n",
    "    tokenizer_name = \"Qwen/Qwen2.5-3B-Instruct\",  # optional but recommended for chunking utilities\n",
    ")"
   ]
  },
  {
   "cell_type": "code",
   "execution_count": 2,
   "id": "9e8b2673",
   "metadata": {},
   "outputs": [
    {
     "name": "stdout",
     "output_type": "stream",
     "text": [
      "() {'query': 'Three airline companies operate flights from Dodola island. Each company has a different schedule of departures. The first company departs every 100 days, the second every 120 days and the third every 150 days. What is the greatest positive integer $d$ for which it is true that there will be $d$ consecutive days without a flight from Dodola island, regardless of the departure times of the various airlines?'}\n",
      "() {'query': 'Fred and George take part in a tennis tournament with $4046$ other players. In each round, the players are paired into $2024$ matches. How many ways are there to arrange the first round such that Fred and George do not have to play each other? (Two arrangements for the first round are \\textit{different} if there is a player with a different opponent in the two arrangements.)'}\n",
      "\n",
      "---- prompt ----\n",
      "You're an excellent mathmatist who solves the problem. Refering to the brainstorming sentence above, solve the problem below.\n",
      "\n",
      "\n",
      "Problem: Fred and George take part in a tennis tournament with $4046$ other players. In each round, the players are paired into $2024$ matches. How many ways are there to arrange the first round such that Fred and George do not have to play each other? (Two arrangements for the first round are \textit{different} if there is a player with a different opponent in the two arrangements.)\n",
      "\n",
      "---- answer ----\n",
      "Total players: 4048 (Fred, George, and 4046 others). In the first round we form 2024 disjoint matches.\n",
      "\n",
      "- The number of ways to form all possible first-round pairings of 4048 labeled players is (4048 − 1)!! = 4047 · 4045 · 4043 · ... · 3 · 1 = (4047)!!.\n",
      "\n",
      "- The number of pairings in which Fred plays George is the number of pairings of the remaining 4046 players, which is (4046 − 1)!! = 4045 · 4043 · ... · 3 · 1 = (4045)!!.\n",
      "\n",
      "Thus the number of valid arrangements (Fred and George do not face each other) is\n",
      "(4047)!! − (4045)!! = (4046) · (4045)!!.\n",
      "\n",
      "Equivalently, count by fixing Fred’s opponent (not George): there are 4046 choices for Fred’s opponent, then the remaining 4046 players can be paired in (4045)!! ways. So the answer is\n",
      "4046 · (4045)!! = 4046 · 4045 · 4043 · ... · 3 · 1.\n",
      "\n",
      "If you prefer a factorial form, (4045)!! = (4046)! / (2^{2023} · 2023!), so the count is 4046 · (4046)! / (2^{2023} · 2023!).\n",
      "Answer Ended\n",
      "\n",
      "---- prompt ----\n",
      "You're an excellent mathmatist who solves the problem. Refering to the brainstorming sentence above, solve the problem below.\n",
      "\n",
      "\n",
      "Problem: Three airline companies operate flights from Dodola island. Each company has a different schedule of departures. The first company departs every 100 days, the second every 120 days and the third every 150 days. What is the greatest positive integer $d$ for which it is true that there will be $d$ consecutive days without a flight from Dodola island, regardless of the departure times of the various airlines?\n",
      "\n",
      "---- answer ----\n",
      "\n",
      "Answer Ended\n"
     ]
    }
   ],
   "source": [
    "answers = await seimei.get_answer(queries = queries)"
   ]
  },
  {
   "cell_type": "markdown",
   "id": "99d1e14c-da35-405e-ad0e-b77d26943098",
   "metadata": {},
   "source": [
    "# Without database 1 (Math Problems)"
   ]
  },
  {
   "cell_type": "code",
   "execution_count": null,
   "id": "52e9172e-2ecb-4182-ba0c-073ff5dcf2e3",
   "metadata": {
    "scrolled": true
   },
   "outputs": [],
   "source": [
    "from SEIMEI import SEIMEI\n",
    "\n",
    "problems = [\n",
    "    \"Three airline companies operate flights from Dodola island. Each company has a different schedule of departures. The first company departs every 100 days, the second every 120 days and the third every 150 days. What is the greatest positive integer $d$ for which it is true that there will be $d$ consecutive days without a flight from Dodola island, regardless of the departure times of the various airlines?\",\n",
    "    \"Fred and George take part in a tennis tournament with $4046$ other players. In each round, the players are paired into $2024$ matches. How many ways are there to arrange the first round such that Fred and George do not have to play each other? (Two arrangements for the first round are \\textit{different} if there is a player with a different opponent in the two arrangements.)\",\n",
    "    \"Triangle $ABC$ has side length $AB = 120$ and circumradius $R = 100$. Let $D$ be the foot of the perpendicular from $C$ to the line $AB$. What is the greatest possible length of segment $CD$?\",\n",
    "    \"Find the three-digit number $n$ such that writing any other three-digit number $10^{2024}$ times in a row and $10^{2024}+2$ times in a row results in two numbers divisible by $n$.\",\n",
    "    \"We call a sequence $a_1, a_2, \\ldots$ of non-negative integers \\textit{delightful} if there exists a positive integer $N$ such that for all $n > N$, $a_n = 0$, and for all $i \\geq 1$, $a_i$ counts the number of multiples of $i$ in $a_1, a_2, \\ldots, a_N$. How many delightful sequences of non-negative integers are there?\",\n",
    "    \"Let $ABC$ be a triangle with $BC=108$, $CA=126$, and $AB=39$. Point $X$ lies on segment $AC$ such that $BX$ bisects $\\angle CBA$. Let $\\omega$ be the circumcircle of triangle $ABX$. Let $Y$ be a point on $\\omega$ different from $X$ such that $CX=CY$. Line $XY$ meets $BC$ at $E$. The length of the segment $BE$ can be written as $\\frac{m}{n}$, where $m$ and $n$ are coprime positive integers. Find $m+n$.\",\n",
    "    \"For a positive integer $n$, let $S(n)$ denote the sum of the digits of $n$ in base 10. Compute $S(S(1)+S(2)+\\cdots+S(N))$ with $N=10^{100}-2$.\",\n",
    "    \"\"\"For positive integers $x_1,\\ldots, x_n$ define $G(x_1, \\ldots, x_n)$ to be the sum of their $\\frac{n(n-1)}{2}$ pairwise greatest common divisors. We say that an integer $n \\geq 2$ is \\emph{artificial} if there exist $n$ different positive integers $a_1, ..., a_n$ such that \n",
    "\\[a_1 + \\cdots + a_n = G(a_1, \\ldots, a_n) +1.\\]\n",
    "Find the sum of all artificial integers $m$ in the range $2 \\leq m \\leq 40$.\"\"\",\n",
    "    \"The Fibonacci numbers are defined as follows: $F_0 = 0$, $F_1 = 1$, and $F_{n+1} = F_n + F_{n-1}$ for $n \\geq 1$. There are $N$ positive integers $n$ strictly less than $10^{101}$ such that $n^2 + (n+1)^2$ is a multiple of 5 but $F_{n-1}^2 + F_n^2$ is not. How many prime factors does $N$ have, counted with multiplicity?\",\n",
    "    \"Alice writes all positive integers from $1$ to $n$ on the board for some positive integer $n \\geq 11$. Bob then erases ten of them. The mean of the remaining numbers is $3000/37$. The sum of the numbers Bob erased is $S$. What is the remainder when $n \\times S$ is divided by $997$?\",\n",
    "]\n",
    "\n",
    "queries = []\n",
    "for problem in problems:\n",
    "    queries.append({\"query\":problem})\n",
    "\n",
    "expert_config = [\n",
    "    {\n",
    "        \"dir_path\" : \"../Experts/Math\", # can be either folder or file\n",
    "        \"start_class\" : [\"Brainstorming\"]\n",
    "    }\n",
    "]\n",
    "\n",
    "seimei = SEIMEI(\n",
    "    model_name = \"/workspace/qwen3b\",\n",
    "    expert_config = expert_config,\n",
    "    max_inference_time = 1000,\n",
    "    tensor_parallel_size = 1,\n",
    "    max_seq_len_to_capture = 10000,\n",
    "    gpu_memory_utilization = 0.4,\n",
    ")\n"
   ]
  },
  {
   "cell_type": "code",
   "execution_count": null,
   "id": "646c27a0-f139-460d-97a9-416d4f7689a4",
   "metadata": {
    "scrolled": true
   },
   "outputs": [],
   "source": [
    "answers = await seimei.get_answer(queries = queries)"
   ]
  },
  {
   "cell_type": "markdown",
   "id": "753b05dd-ab29-4002-ac79-b608a7fd6f40",
   "metadata": {
    "jp-MarkdownHeadingCollapsed": true
   },
   "source": [
    "# Without database 2 (Simple Coding Problems)"
   ]
  },
  {
   "cell_type": "code",
   "execution_count": null,
   "id": "8dad0370-65c1-400d-9ee9-cdc3b0524496",
   "metadata": {
    "scrolled": true
   },
   "outputs": [],
   "source": [
    "from SEIMEI import SEIMEI\n",
    "\n",
    "problems = [\n",
    "    \"Three airline companies operate flights from Dodola island. Each company has a different schedule of departures. The first company departs every 100 days, the second every 120 days and the third every 150 days. What is the greatest positive integer $d$ for which it is true that there will be $d$ consecutive days without a flight from Dodola island, regardless of the departure times of the various airlines?\",\n",
    "    \"Fred and George take part in a tennis tournament with $4046$ other players. In each round, the players are paired into $2024$ matches. How many ways are there to arrange the first round such that Fred and George do not have to play each other? (Two arrangements for the first round are \\textit{different} if there is a player with a different opponent in the two arrangements.)\",\n",
    "    \"Triangle $ABC$ has side length $AB = 120$ and circumradius $R = 100$. Let $D$ be the foot of the perpendicular from $C$ to the line $AB$. What is the greatest possible length of segment $CD$?\",\n",
    "    \"Find the three-digit number $n$ such that writing any other three-digit number $10^{2024}$ times in a row and $10^{2024}+2$ times in a row results in two numbers divisible by $n$.\",\n",
    "    \"We call a sequence $a_1, a_2, \\ldots$ of non-negative integers \\textit{delightful} if there exists a positive integer $N$ such that for all $n > N$, $a_n = 0$, and for all $i \\geq 1$, $a_i$ counts the number of multiples of $i$ in $a_1, a_2, \\ldots, a_N$. How many delightful sequences of non-negative integers are there?\",\n",
    "    \"Let $ABC$ be a triangle with $BC=108$, $CA=126$, and $AB=39$. Point $X$ lies on segment $AC$ such that $BX$ bisects $\\angle CBA$. Let $\\omega$ be the circumcircle of triangle $ABX$. Let $Y$ be a point on $\\omega$ different from $X$ such that $CX=CY$. Line $XY$ meets $BC$ at $E$. The length of the segment $BE$ can be written as $\\frac{m}{n}$, where $m$ and $n$ are coprime positive integers. Find $m+n$.\",\n",
    "    \"For a positive integer $n$, let $S(n)$ denote the sum of the digits of $n$ in base 10. Compute $S(S(1)+S(2)+\\cdots+S(N))$ with $N=10^{100}-2$.\",\n",
    "    \"\"\"For positive integers $x_1,\\ldots, x_n$ define $G(x_1, \\ldots, x_n)$ to be the sum of their $\\frac{n(n-1)}{2}$ pairwise greatest common divisors. We say that an integer $n \\geq 2$ is \\emph{artificial} if there exist $n$ different positive integers $a_1, ..., a_n$ such that \n",
    "\\[a_1 + \\cdots + a_n = G(a_1, \\ldots, a_n) +1.\\]\n",
    "Find the sum of all artificial integers $m$ in the range $2 \\leq m \\leq 40$.\"\"\",\n",
    "    \"The Fibonacci numbers are defined as follows: $F_0 = 0$, $F_1 = 1$, and $F_{n+1} = F_n + F_{n-1}$ for $n \\geq 1$. There are $N$ positive integers $n$ strictly less than $10^{101}$ such that $n^2 + (n+1)^2$ is a multiple of 5 but $F_{n-1}^2 + F_n^2$ is not. How many prime factors does $N$ have, counted with multiplicity?\",\n",
    "    \"Alice writes all positive integers from $1$ to $n$ on the board for some positive integer $n \\geq 11$. Bob then erases ten of them. The mean of the remaining numbers is $3000/37$. The sum of the numbers Bob erased is $S$. What is the remainder when $n \\times S$ is divided by $997$?\",\n",
    "]\n",
    "\n",
    "queries = []\n",
    "for problem in problems:\n",
    "    queries.append({\"query\":problem})\n",
    "\n",
    "expert_config = [\n",
    "    {\n",
    "        \"dir_path\" : \"./Experts/SWE/\", # can be either folder or file\n",
    "        \"class_names\" : [\"Answer\", \"CheckInf\", \"MetaSurvey\", \"CollectCodeFileToModify\"]\n",
    "    }\n",
    "]\n",
    "\n",
    "seimei = SEIMEI(\n",
    "    model_name = \"Qwen/QwQ-32B-Preview\",\n",
    "    expert_config = expert_config,\n",
    "    max_inference_time = 1000,\n",
    "    tensor_parallel_size = 2,\n",
    ")\n",
    "\n",
    "answers = await seimei.get_answer(queries = problems)\n",
    "\n"
   ]
  },
  {
   "cell_type": "markdown",
   "id": "bc723523-6b4d-47cf-9b2c-ebac0f52bace",
   "metadata": {
    "jp-MarkdownHeadingCollapsed": true
   },
   "source": [
    "# With database 1 (SWE-bench)"
   ]
  },
  {
   "cell_type": "code",
   "execution_count": null,
   "id": "6e9c3b5f-6954-4b65-ab8b-939163f149ef",
   "metadata": {},
   "outputs": [],
   "source": [
    "from SEIMEI import SEIMEI\n",
    "import asyncio\n",
    "\n",
    "database_path = \"./database\"\n",
    "#se_restrictions = [\"MetaSurvey2\"]  # search engine only hits classes in this list normally (except when adding expert_restriction in kwargs)\n",
    "expert_config = [\n",
    "    {\n",
    "        \"dir_path\" : \"./Experts/SWE/\", # can be either folder or file\n",
    "        \"class_names\" : [\"Answer\", \"CheckInf\", \"MetaSurvey\", \"CollectCodeFileToModify\"]\n",
    "    }\n",
    "]\n",
    "\n",
    "seimei = SEIMEI(\n",
    "    database_path = database_path, \n",
    "    expert_config = expert_config,\n",
    "    max_inference_time = 1000,\n",
    "    tensor_parallel_size = 1,\n",
    "    max_request = 20,\n",
    ")\n"
   ]
  },
  {
   "cell_type": "markdown",
   "id": "99c3a07c-93cc-4c2a-9518-3b622e2f3806",
   "metadata": {
    "jp-MarkdownHeadingCollapsed": true
   },
   "source": [
    "# With database 2 (Plasma Simulation)"
   ]
  },
  {
   "cell_type": "code",
   "execution_count": null,
   "id": "8a6498e3-4f61-49b0-9961-30ad9ce44695",
   "metadata": {},
   "outputs": [],
   "source": [
    "from SEIMEI import SEIMEI\n",
    "import asyncio\n",
    "\n",
    "database_path = \"./database\"\n",
    "#se_restrictions = [\"MetaSurvey2\"]  # search engine only hits classes in this list normally (except when adding expert_restriction in kwargs)\n",
    "expert_config = [\n",
    "    {\n",
    "        \"dir_path\" : \"./Experts/SWE/\", # can be either folder or file\n",
    "        \"class_names\" : [\"Answer\", \"CheckInf\", \"MetaSurvey\", \"CollectCodeFileToModify\"]\n",
    "    }\n",
    "]\n",
    "\n",
    "seimei = SEIMEI(\n",
    "    database_path = database_path, \n",
    "    expert_config = expert_config,\n",
    "    max_inference_time = 1000,\n",
    "    tensor_parallel_size = 1,\n",
    "    max_request = 20,\n",
    ")\n"
   ]
  },
  {
   "cell_type": "code",
   "execution_count": null,
   "id": "9b7ec083-d5fd-471d-b201-8a5bf373a318",
   "metadata": {},
   "outputs": [],
   "source": []
  },
  {
   "cell_type": "code",
   "execution_count": null,
   "id": "f1c1f576-3c3b-4ca8-826d-6a8ea34501dc",
   "metadata": {},
   "outputs": [],
   "source": []
  }
 ],
 "metadata": {
  "kernelspec": {
   "display_name": "base",
   "language": "python",
   "name": "python3"
  },
  "language_info": {
   "codemirror_mode": {
    "name": "ipython",
    "version": 3
   },
   "file_extension": ".py",
   "mimetype": "text/x-python",
   "name": "python",
   "nbconvert_exporter": "python",
   "pygments_lexer": "ipython3",
   "version": "3.12.2"
  }
 },
 "nbformat": 4,
 "nbformat_minor": 5
}
