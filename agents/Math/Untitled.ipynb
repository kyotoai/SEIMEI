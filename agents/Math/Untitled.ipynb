{
 "cells": [
  {
   "cell_type": "code",
   "execution_count": 1,
   "id": "e9dfecfc-a116-413a-af64-c76b9f844b11",
   "metadata": {},
   "outputs": [],
   "source": [
    "agents = [\n",
    "    \"Let's approach this from a different angle.\",\n",
    "    \"What would be the opposite of this idea?\",\n",
    "    \"Can we imagine a scenario where this fails, and why?\",\n",
    "    \"Now, pretend you're an expert in a completely unrelated field—what might you suggest?\",\n",
    "    \"Forget all assumptions—what’s the wildest way to solve this?\",\n",
    "    \"Can you solve this with only three words?\",\n",
    "    \"What would a child or beginner suggest here?\",\n",
    "    \"Let’s flip the goal: how would we prevent this instead?\",\n",
    "    \"Assume unlimited resources—what’s possible now?\",\n",
    "    \"What would this look like in a completely different culture or time period?\",\n",
    "]\n",
    "\n",
    "import json\n",
    "with open(\"bs_agents.json\", \"w\") as f:\n",
    "    json.dump(agents, f)"
   ]
  },
  {
   "cell_type": "code",
   "execution_count": null,
   "id": "4595bf52-dccc-41d8-b909-e9f465388ae2",
   "metadata": {},
   "outputs": [],
   "source": []
  }
 ],
 "metadata": {
  "kernelspec": {
   "display_name": "Python 3 (ipykernel)",
   "language": "python",
   "name": "python3"
  },
  "language_info": {
   "codemirror_mode": {
    "name": "ipython",
    "version": 3
   },
   "file_extension": ".py",
   "mimetype": "text/x-python",
   "name": "python",
   "nbconvert_exporter": "python",
   "pygments_lexer": "ipython3",
   "version": "3.10.12"
  }
 },
 "nbformat": 4,
 "nbformat_minor": 5
}
